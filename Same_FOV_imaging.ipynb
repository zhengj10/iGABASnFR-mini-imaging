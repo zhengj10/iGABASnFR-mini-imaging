{
 "cells": [
  {
   "cell_type": "code",
   "execution_count": 1,
   "metadata": {},
   "outputs": [],
   "source": [
    "import os\n",
    "from glob import glob\n",
    "import shutil\n",
    "from scipy.io import loadmat\n",
    "import numpy as np\n",
    "import pandas as pd\n",
    "import matplotlib.pyplot as plt\n",
    "import tifffile as tff\n",
    "from skimage.io import imsave\n"
   ]
  },
  {
   "cell_type": "code",
   "execution_count": 2,
   "metadata": {},
   "outputs": [],
   "source": [
    "ctlPath = '/Users/zhengj10/Desktop/210513/Control'\n",
    "tgbPath = '/Users/zhengj10/Desktop/210513/Tiagabine'\n"
   ]
  },
  {
   "cell_type": "code",
   "execution_count": 3,
   "metadata": {},
   "outputs": [],
   "source": [
    "# imgFiles = glob(imgPath+'/*.mat')\n",
    "# imgFiles = sorted(imgFiles)\n",
    "# len(imgFiles)\n",
    "imgFile = tgbPath+'/FOV_00001.mat'\n"
   ]
  },
  {
   "cell_type": "code",
   "execution_count": 4,
   "metadata": {},
   "outputs": [],
   "source": [
    "imgFile = loadmat(imgFile)"
   ]
  },
  {
   "cell_type": "code",
   "execution_count": 5,
   "metadata": {},
   "outputs": [],
   "source": [
    "imgData = imgFile['data'][:,0][500:2900]\n"
   ]
  },
  {
   "cell_type": "code",
   "execution_count": 6,
   "metadata": {},
   "outputs": [
    {
     "data": {
      "text/plain": [
       "(2400, 512, 512)"
      ]
     },
     "execution_count": 6,
     "metadata": {},
     "output_type": "execute_result"
    }
   ],
   "source": [
    "imgData_aslist = []\n",
    "for i in range(imgData.shape[0]):\n",
    "    imgData_aslist.append(imgData[i])\n",
    "imgData = np.array(imgData_aslist)\n",
    "imgData.shape"
   ]
  },
  {
   "cell_type": "code",
   "execution_count": 8,
   "metadata": {},
   "outputs": [
    {
     "name": "stdout",
     "output_type": "stream",
     "text": [
      "/Users/zhengj10/Desktop/test/FOV_00001.mat\n",
      "(2400, 512, 512)\n",
      "FOV_001: no active pixels\n"
     ]
    }
   ],
   "source": [
    "from skimage import measure\n",
    "\n",
    "imgFiles = glob('/Users/zhengj10/Desktop/test/'+'*.mat')\n",
    "imgFiles = sorted(imgFiles)\n",
    "len(imgFiles)\n",
    "for fov in range(len(imgFiles)):\n",
    "    print(imgFiles[fov])\n",
    "    imgData = loadmat(imgFiles[fov])\n",
    "    imgData = imgData['data']\n",
    "    imgData_aslist=[]\n",
    "    for frame in range(500,2900):\n",
    "        imgData_aslist.append(imgData[:,0][frame])\n",
    "    imgData = np.array(imgData_aslist)\n",
    "    print(imgData.shape)\n",
    "    img_norm = (imgData/imgData[0])-1\n",
    "\n",
    "    act_pix = []\n",
    "    for i in range(10,2390):\n",
    "        a = (np.mean(img_norm[i+1:i+10,:,:],axis=0)-np.mean(img_norm[i-10:i,:,:],axis=0))>0.04\n",
    "        act_pix.append(a)\n",
    "    act_pix = np.array(act_pix)\n",
    "    act_pix = np.max(act_pix,axis=0)\n",
    "\n",
    "    contours = measure.find_contours(act_pix, 0.1)\n",
    "    thre = 20 # Exclude small ROIs\n",
    "    rois = []\n",
    "    \n",
    "    coordinates = []\n",
    "    for r in range(act_pix.shape[0]):\n",
    "        for c in range(act_pix.shape[1]):\n",
    "            coordinates.append([r,c])\n",
    "    coordinates = np.array(coordinates)\n",
    "    \n",
    "    \n",
    "    for contour in contours:\n",
    "        if contour.shape[0]>thre:\n",
    "\n",
    "#             plt.plot(contour[:,1], contour[:, 0], color = 'lime',lw=1)\n",
    "            p = Path(contour)\n",
    "            roi = p.contains_points(coordinates)\n",
    "            roi = roi.reshape(512,512)\n",
    "            rois.append(roi)\n",
    "\n",
    "    if len(rois) == 0:\n",
    "        print('FOV_'+str(fov+1).zfill(3)+': no active pixels')\n",
    "        continue\n",
    "    fig = plt.figure(figsize=[5,5])\n",
    "    \n",
    "    plt.imshow(act_pix)\n",
    "    for contour in contours:\n",
    "        if contour.shape[0]>thre:\n",
    "            plt.plot(contour[:,1], contour[:, 0], color = 'lime',lw=1)\n",
    "            \n",
    "    plt.axis('off')\n",
    "    plt.tight_layout()\n",
    "#     fig.savefig('qqq.pdf',format='pdf')\n",
    "    print('FOV_'+str(fov+1).zfill(3)+' ROI image saved')\n",
    "    fig.clear()\n",
    "    plt.close(fig)\n",
    "\n",
    "    Fb = np.min(imgData[-1,:,:])\n",
    "    F0 = np.mean(imgData[:10,:,:],axis=0)\n",
    "    \n",
    "    fig = plt.figure(figsize=[12,len(rois)/2.0+0.1])\n",
    "\n",
    "    offset_step = 0\n",
    "    for roi in range(len(rois)):\n",
    "        offset = 0.2*offset_step\n",
    "        dFF_all = []\n",
    "        for frame in range(imgData.shape[0]):\n",
    "            F_single = np.sum(rois[roi]*imgData[frame,:,:])/np.sum(rois[roi])\n",
    "            dFF = (F_single - np.sum(rois[roi]*F0)/np.sum(rois[roi]))/(np.sum(rois[roi]*F0)/np.sum(rois[roi])-Fb)\n",
    "            dFF_all.append(dFF)\n",
    "        dFF_all = np.array(dFF_all)\n",
    "        plt.plot(dFF_all - offset, zorder=roi+1, color='k', lw=1,alpha=0.8)\n",
    "        plt.axis('off')\n",
    "        offset_step += 1\n",
    "    plt.plot([2350,2450,2450],[-0.2*offset_step-0.1,-0.2*offset_step-0.1,-0.2*offset_step+0.1],color='k',alpha=0.8)\n",
    "    plt.tight_layout()\n",
    "#     fig.savefig(sumPath+'\\\\dFF_FOV_'+str(fov+1).zfill(3)+'.pdf',format='pdf')\n",
    "    fig.clear()\n",
    "    plt.close(fig)\n"
   ]
  },
  {
   "cell_type": "code",
   "execution_count": null,
   "metadata": {},
   "outputs": [],
   "source": [
    "import pickle"
   ]
  },
  {
   "cell_type": "code",
   "execution_count": null,
   "metadata": {},
   "outputs": [],
   "source": [
    "sumPath = os.path.join(ctlPath,'summary')\n",
    "with open(sumPath+'/act_pixel.pickle', 'rb') as handle:\n",
    "    act_pix = pickle.load(handle)\n"
   ]
  },
  {
   "cell_type": "code",
   "execution_count": null,
   "metadata": {},
   "outputs": [],
   "source": [
    "act_pix_dict = {}"
   ]
  },
  {
   "cell_type": "code",
   "execution_count": null,
   "metadata": {},
   "outputs": [],
   "source": [
    "for k,v in act_pix.items():\n",
    "    act_pix_dict[k[-13:]] = v"
   ]
  },
  {
   "cell_type": "code",
   "execution_count": null,
   "metadata": {},
   "outputs": [],
   "source": [
    "act_pix_dict"
   ]
  },
  {
   "cell_type": "code",
   "execution_count": null,
   "metadata": {},
   "outputs": [],
   "source": [
    "act_pix = act_pix_dict['FOV_00001.mat'][0]"
   ]
  },
  {
   "cell_type": "code",
   "execution_count": null,
   "metadata": {},
   "outputs": [],
   "source": [
    "act_pix"
   ]
  },
  {
   "cell_type": "code",
   "execution_count": null,
   "metadata": {},
   "outputs": [],
   "source": [
    "# imgData = imgData[500:2900,:,:]\n",
    "# img_norm = (imgData/imgData[0])-1\n",
    "\n",
    "# act_pix = []\n",
    "# for i in range(10,2390):\n",
    "#     a = (np.mean(img_norm[i+1:i+10,:,:],axis=0)-np.mean(img_norm[i-10:i,:,:],axis=0))>0.04\n",
    "#     act_pix.append(a)\n",
    "# act_pix = np.array(act_pix)\n",
    "# act_pix = np.max(act_pix,axis=0)\n",
    "# plt.axis('off')\n",
    "# plt.tight_layout()\n",
    "plt.figure(figsize=[9,9])\n",
    "plt.imshow(act_pix,cmap='gray')\n"
   ]
  },
  {
   "cell_type": "code",
   "execution_count": null,
   "metadata": {},
   "outputs": [],
   "source": [
    "fig = plt.figure(figsize=[8,8])\n",
    "plt.imshow(act_pix,cmap='gray')\n",
    "plt.axis('off')\n",
    "plt.tight_layout()\n",
    "# fig.savefig(imgPath+'act_pix.png')"
   ]
  },
  {
   "cell_type": "code",
   "execution_count": null,
   "metadata": {},
   "outputs": [],
   "source": [
    "from skimage import measure\n",
    "contours = measure.find_contours(act_pix, 0.1)"
   ]
  },
  {
   "cell_type": "code",
   "execution_count": null,
   "metadata": {},
   "outputs": [],
   "source": [
    "fig = plt.figure(figsize=[8,8])\n",
    "plt.imshow(act_pix,cmap='gray')\n",
    "thre = 20 # Exclude small ROIs\n",
    "# roi = 0\n",
    "for contour in contours:\n",
    "    if contour.shape[0]>thre:\n",
    "#         roi+=1\n",
    "        plt.plot(contour[:,1], contour[:, 0], color = 'r',lw=5)\n",
    "plt.axis('off')\n",
    "plt.tight_layout()\n",
    "# fig.savefig(imgPath+'roi.png')\n"
   ]
  },
  {
   "cell_type": "code",
   "execution_count": null,
   "metadata": {},
   "outputs": [],
   "source": [
    "act_pix.shape"
   ]
  },
  {
   "cell_type": "code",
   "execution_count": null,
   "metadata": {},
   "outputs": [],
   "source": [
    "for contour in contours:\n",
    "    print(contour.shape)"
   ]
  },
  {
   "cell_type": "code",
   "execution_count": null,
   "metadata": {},
   "outputs": [],
   "source": [
    "from matplotlib.path import Path\n",
    "mean_image = imgData[0,:,:]\n",
    "# plt.figure(figsize=[12,12])\n",
    "plt.imshow(np.zeros([512,512]))\n",
    "coordinates = []\n",
    "for r in range(act_pix.shape[0]):\n",
    "    for c in range(act_pix.shape[1]):\n",
    "        coordinates.append([r,c])\n",
    "coordinates = np.array(coordinates)\n",
    "\n",
    "meanImg_b0 = []\n",
    "rois = []\n",
    "for contour in contours:\n",
    "    if contour.shape[0]>thre:\n",
    "        p = Path(contour)\n",
    "        roi = p.contains_points(coordinates)\n",
    "        roi = roi.reshape(512,512)\n",
    "        f0 = np.sum(roi*mean_image)/np.sum(roi)\n",
    "        rois.append(roi)\n",
    "        meanImg_b0.append(roi*mean_image)\n",
    "\n",
    "\n",
    "x = np.arange(0, 20)\n",
    "y = np.arange(22, 32)\n",
    "xv, yv = np.meshgrid(x, y)\n",
    "mask = np.zeros(mean_image.shape)\n",
    "mask[yv.flatten().astype(np.int), xv.flatten().astype(np.int)] = 1\n",
    "rois.append(mask) # Add mask (fb)\n",
    "meanImg_b0.append(rois[-1]*mean_image) # Add mask (fb)\n",
    "rois_all = np.sum(rois,axis=0)      \n",
    "        \n",
    "plt.imshow(rois_all)\n",
    "meanImg_b0 = np.sum(meanImg_b0,axis=0)\n",
    "# plt.colorbar()\n",
    "plt.show()\n"
   ]
  },
  {
   "cell_type": "code",
   "execution_count": null,
   "metadata": {},
   "outputs": [],
   "source": [
    "# plt.figure(figsize=[12,12])\n",
    "plt.imshow(meanImg_b0)\n",
    "# plt.colorbar()\n",
    "plt.show()\n"
   ]
  },
  {
   "cell_type": "code",
   "execution_count": null,
   "metadata": {},
   "outputs": [],
   "source": [
    "len(rois)\n",
    "# imgData.shape"
   ]
  },
  {
   "cell_type": "code",
   "execution_count": null,
   "metadata": {},
   "outputs": [],
   "source": []
  },
  {
   "cell_type": "code",
   "execution_count": null,
   "metadata": {},
   "outputs": [],
   "source": [
    "Fb = np.min(imgData[-1,:,:])\n",
    "F0 = np.mean(imgData[:10,:,:],axis=0)\n",
    "fig = plt.figure(figsize=[12,(len(rois)-1)/15])\n",
    "i = 1\n",
    "x = np.arange(1,2401)\n",
    "for roi in range(len(rois)-1):\n",
    "    if roi in [1,2]:\n",
    "        continue\n",
    "    offset = 0.05*i\n",
    "    dFF_all = []\n",
    "    for frame in range(imgData.shape[0]):\n",
    "        F_single = np.sum(rois[roi]*imgData[frame,:,:])/np.sum(rois[roi])\n",
    "        dFF = (F_single - np.sum(rois[roi]*F0)/np.sum(rois[roi]))/(np.sum(rois[roi]*F0)/np.sum(rois[roi])-Fb)\n",
    "        dFF_all.append(dFF)\n",
    "    dFF_all = np.array(dFF_all)\n",
    "    dFF_all = signal.detrend(dFF_all)\n",
    "    b, a = signal.butter(8, 0.4)\n",
    "    dFF_all = signal.filtfilt(b, a, dFF_all, padlen=125)\n",
    "    plt.fill_between(x,dFF_all - offset, 0 - offset, \n",
    "                 zorder=i+1, \n",
    "                 facecolor='w', edgecolor='w', \n",
    "                 lw=0, \n",
    "                 closed=True)\n",
    "    plt.plot(x,dFF_all - offset, zorder=i+1, color='k', lw=0.5)\n",
    "    plt.axis('off')\n",
    "    i+=1\n",
    "# plt.plot([2350,2450,2450],[-1.1,-1.1,-0.9],color='k',alpha=0.8)\n",
    "plt.tight_layout()\n",
    "# fig.savefig('/Users/zhengj10/Desktop/dFF_013.pdf',format='pdf')21\n"
   ]
  },
  {
   "cell_type": "code",
   "execution_count": null,
   "metadata": {},
   "outputs": [],
   "source": [
    "from scipy import signal"
   ]
  },
  {
   "cell_type": "code",
   "execution_count": null,
   "metadata": {},
   "outputs": [],
   "source": [
    "b, a = signal.butter(8, 0.4)\n",
    "y = signal.filtfilt(b, a, dFF_all, padlen=125)\n",
    "plt.plot(y)\n",
    "plt.show()"
   ]
  },
  {
   "cell_type": "code",
   "execution_count": null,
   "metadata": {},
   "outputs": [],
   "source": []
  },
  {
   "cell_type": "code",
   "execution_count": null,
   "metadata": {},
   "outputs": [],
   "source": [
    "from scipy import signal\n",
    "\n",
    "dFF_all_d = signal.detrend(dFF_all)"
   ]
  },
  {
   "cell_type": "code",
   "execution_count": null,
   "metadata": {},
   "outputs": [],
   "source": []
  },
  {
   "cell_type": "code",
   "execution_count": null,
   "metadata": {},
   "outputs": [],
   "source": [
    "fig = plt.figure(figsize=[15,12])\n",
    "subplot_no=1\n",
    "imgData_act_pix_all = {}\n",
    "for imgFile in imgFiles:\n",
    "    print(imgFile)\n",
    "    imgData_act_pix_all[imgFile] = []\n",
    "    imgData = loadmat(imgFile)\n",
    "    imgData = imgData['data']\n",
    "    imgData = imgData[:,0][500:2900]\n",
    "    imgData_aslist = []\n",
    "    for i in range(imgData.shape[0]):\n",
    "        imgData_aslist.append(imgData[i])\n",
    "    imgData = np.array(imgData_aslist)\n",
    "    img_norm = (imgData/imgData[0])-1\n",
    "    act_pix = []\n",
    "    for i in range(10,2390):\n",
    "        a = (np.mean(img_norm[i+1:i+10,:,:],axis=0)-np.mean(img_norm[i-10:i,:,:],axis=0))>0.04\n",
    "        act_pix.append(a)\n",
    "    act_pix = np.array(act_pix)\n",
    "    act_pix = np.max(act_pix,axis=0)\n",
    "    ax = plt.subplot(4,5,subplot_no)\n",
    "    ax.imshow(act_pix,cmap='gray')\n",
    "    imgData_act_pix_all[imgFile].append(act_pix)\n",
    "    subplot_no+=1\n",
    "# fig.savefig('/Users/zhengj10/Desktop/210203/act_pix.png')"
   ]
  },
  {
   "cell_type": "code",
   "execution_count": null,
   "metadata": {},
   "outputs": [],
   "source": [
    "fig = plt.figure(figsize=[15,12])\n",
    "subplot_no=1\n",
    "for imgFile in imgFiles:\n",
    "    print(imgFile)\n",
    "    imgData = loadmat(imgFile)\n",
    "    imgData = imgData['data']\n",
    "    imgData = imgData[:,0][500]\n",
    "    ax = plt.subplot(4,5,subplot_no)\n",
    "    ax.imshow(imgData,cmap='gray',vmin=1500,vmax=5000)\n",
    "    ax.axis('off')\n",
    "\n",
    "    subplot_no+=1\n",
    "plt.tight_layout()\n",
    "# fig.savefig(imgPath + 'all_FOVs.png')"
   ]
  },
  {
   "cell_type": "code",
   "execution_count": null,
   "metadata": {},
   "outputs": [],
   "source": [
    "import pickle\n",
    "\n",
    "with open('act_pixel.pickle', 'wb') as handle:\n",
    "    pickle.dump(imgData_act_pix_all, handle, protocol=pickle.HIGHEST_PROTOCOL)\n",
    "\n",
    "# with open('act_pixel.pickle', 'rb') as handle:\n",
    "#     b = pickle.load(handle)"
   ]
  },
  {
   "cell_type": "code",
   "execution_count": null,
   "metadata": {},
   "outputs": [],
   "source": [
    "img_1 = np.zeros((32,32))\n",
    "img_2 = np.zeros((32,32))"
   ]
  },
  {
   "cell_type": "code",
   "execution_count": null,
   "metadata": {},
   "outputs": [],
   "source": [
    "img_1[12,15] = 5\n",
    "img_2[15,12] = 2\n",
    "plt.imshow(img_1,cmap='gray')\n",
    "plt.imshow(img_2,cmap='gray',alpha=0.5)"
   ]
  },
  {
   "cell_type": "code",
   "execution_count": null,
   "metadata": {},
   "outputs": [],
   "source": []
  },
  {
   "cell_type": "code",
   "execution_count": null,
   "metadata": {},
   "outputs": [],
   "source": []
  },
  {
   "cell_type": "code",
   "execution_count": null,
   "metadata": {},
   "outputs": [],
   "source": []
  },
  {
   "cell_type": "code",
   "execution_count": null,
   "metadata": {},
   "outputs": [],
   "source": []
  },
  {
   "cell_type": "code",
   "execution_count": null,
   "metadata": {},
   "outputs": [],
   "source": []
  },
  {
   "cell_type": "code",
   "execution_count": null,
   "metadata": {},
   "outputs": [],
   "source": []
  },
  {
   "cell_type": "code",
   "execution_count": null,
   "metadata": {},
   "outputs": [],
   "source": []
  },
  {
   "cell_type": "code",
   "execution_count": null,
   "metadata": {},
   "outputs": [],
   "source": []
  },
  {
   "cell_type": "code",
   "execution_count": null,
   "metadata": {},
   "outputs": [],
   "source": []
  },
  {
   "cell_type": "code",
   "execution_count": null,
   "metadata": {},
   "outputs": [],
   "source": []
  },
  {
   "cell_type": "code",
   "execution_count": null,
   "metadata": {},
   "outputs": [],
   "source": []
  },
  {
   "cell_type": "code",
   "execution_count": null,
   "metadata": {},
   "outputs": [],
   "source": []
  },
  {
   "cell_type": "code",
   "execution_count": null,
   "metadata": {},
   "outputs": [],
   "source": []
  },
  {
   "cell_type": "code",
   "execution_count": null,
   "metadata": {},
   "outputs": [],
   "source": []
  }
 ],
 "metadata": {
  "kernelspec": {
   "display_name": "Python 3",
   "language": "python",
   "name": "python3"
  },
  "language_info": {
   "codemirror_mode": {
    "name": "ipython",
    "version": 3
   },
   "file_extension": ".py",
   "mimetype": "text/x-python",
   "name": "python",
   "nbconvert_exporter": "python",
   "pygments_lexer": "ipython3",
   "version": "3.7.6"
  }
 },
 "nbformat": 4,
 "nbformat_minor": 4
}
